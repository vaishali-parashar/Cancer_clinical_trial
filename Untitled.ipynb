{
 "cells": [
  {
   "cell_type": "markdown",
   "id": "a24754a0",
   "metadata": {},
   "source": [
    "# Cancer Clinical Trials\n",
    "Input Features = type of study and short description of disease.\n",
    "\n",
    "Output Feature = Qualification.\n",
    "\n",
    "This model predicts the eligibility or qualification of the patient for the clinical trials.\n",
    "\n",
    "### Approach to the problem\n",
    "* First we read the dataset  with the help of pandas read_csv.\n",
    "* Then we did some EDA if necessary( checked the information , null values ,value counts, etc.)\n",
    "* Separated the independent and dependent column.\n",
    "* Combining both Independent features into one paragraph.\n",
    "* Did Feature engineering on text data ---\n",
    "    1. Removed all other characters except alphabets\n",
    "    2. converted all alphabets into lower case.\n",
    "    3. split into list of words\n",
    "    4. removed the stopwords\n",
    "    5. agan combined to form sentence.\n",
    "* Converting words into vectors by using countvectorizer( we can also use tf-idf vectorizer)\n",
    "* Divide the dataset into train and test \n",
    "* Choose multinomial naive bayes classifier( as it works well for text data)\n",
    "* Checked the performance metric using confusion metrix and accuracy score.\n",
    "\n"
   ]
  },
  {
   "cell_type": "code",
   "execution_count": 1,
   "id": "b3994b15",
   "metadata": {},
   "outputs": [],
   "source": [
    "import pandas as pd\n",
    "import numpy as np"
   ]
  },
  {
   "cell_type": "code",
   "execution_count": 2,
   "id": "60467189",
   "metadata": {},
   "outputs": [
    {
     "data": {
      "text/html": [
       "<div>\n",
       "<style scoped>\n",
       "    .dataframe tbody tr th:only-of-type {\n",
       "        vertical-align: middle;\n",
       "    }\n",
       "\n",
       "    .dataframe tbody tr th {\n",
       "        vertical-align: top;\n",
       "    }\n",
       "\n",
       "    .dataframe thead th {\n",
       "        text-align: right;\n",
       "    }\n",
       "</style>\n",
       "<table border=\"1\" class=\"dataframe\">\n",
       "  <thead>\n",
       "    <tr style=\"text-align: right;\">\n",
       "      <th></th>\n",
       "      <th>study</th>\n",
       "      <th>condition</th>\n",
       "      <th>qualification</th>\n",
       "    </tr>\n",
       "  </thead>\n",
       "  <tbody>\n",
       "    <tr>\n",
       "      <th>0</th>\n",
       "      <td>study interventions are recombinant CD40-ligand</td>\n",
       "      <td>melanoma skin diagnosis and no active cns met...</td>\n",
       "      <td>0</td>\n",
       "    </tr>\n",
       "    <tr>\n",
       "      <th>1</th>\n",
       "      <td>study interventions are Liposomal doxorubicin</td>\n",
       "      <td>colorectal cancer diagnosis and cardiovascular</td>\n",
       "      <td>0</td>\n",
       "    </tr>\n",
       "    <tr>\n",
       "      <th>2</th>\n",
       "      <td>study interventions are BI 836909</td>\n",
       "      <td>multiple myeloma diagnosis and indwelling cen...</td>\n",
       "      <td>0</td>\n",
       "    </tr>\n",
       "    <tr>\n",
       "      <th>3</th>\n",
       "      <td>study interventions are Immunoglobulins</td>\n",
       "      <td>recurrent fallopian tube carcinoma diagnosis ...</td>\n",
       "      <td>0</td>\n",
       "    </tr>\n",
       "    <tr>\n",
       "      <th>4</th>\n",
       "      <td>study interventions are Paclitaxel</td>\n",
       "      <td>stage ovarian cancer diagnosis and patients m...</td>\n",
       "      <td>0</td>\n",
       "    </tr>\n",
       "    <tr>\n",
       "      <th>5</th>\n",
       "      <td>study interventions are Antibodies, Monoclonal</td>\n",
       "      <td>recurrent verrucous carcinoma of the oral cav...</td>\n",
       "      <td>0</td>\n",
       "    </tr>\n",
       "    <tr>\n",
       "      <th>6</th>\n",
       "      <td>study interventions are Hormones</td>\n",
       "      <td>prostate cancer diagnosis and imaging examina...</td>\n",
       "      <td>0</td>\n",
       "    </tr>\n",
       "    <tr>\n",
       "      <th>7</th>\n",
       "      <td>study interventions are Bendamustine Hydrochlo...</td>\n",
       "      <td>diffuse large cell lymphoma diagnosis and no ...</td>\n",
       "      <td>0</td>\n",
       "    </tr>\n",
       "    <tr>\n",
       "      <th>8</th>\n",
       "      <td>study interventions are Nivolumab</td>\n",
       "      <td>recovered from all toxicities associated with...</td>\n",
       "      <td>0</td>\n",
       "    </tr>\n",
       "    <tr>\n",
       "      <th>9</th>\n",
       "      <td>study interventions are Thalidomide</td>\n",
       "      <td>kidney cancer diagnosis and no diabetes mellitus</td>\n",
       "      <td>0</td>\n",
       "    </tr>\n",
       "    <tr>\n",
       "      <th>10</th>\n",
       "      <td>study interventions are study of high risk fac...</td>\n",
       "      <td>precancerous condition diagnosis and able to ...</td>\n",
       "      <td>0</td>\n",
       "    </tr>\n",
       "    <tr>\n",
       "      <th>11</th>\n",
       "      <td>study interventions are Androgens</td>\n",
       "      <td>prostate cancer diagnosis and patient charact...</td>\n",
       "      <td>0</td>\n",
       "    </tr>\n",
       "    <tr>\n",
       "      <th>12</th>\n",
       "      <td>study interventions are Bortezomib</td>\n",
       "      <td>multiple myeloma diagnosis and renal insuffic...</td>\n",
       "      <td>0</td>\n",
       "    </tr>\n",
       "    <tr>\n",
       "      <th>13</th>\n",
       "      <td>study interventions are Prednisone</td>\n",
       "      <td>testicular lymphoma diagnosis and bulky disea...</td>\n",
       "      <td>0</td>\n",
       "    </tr>\n",
       "    <tr>\n",
       "      <th>14</th>\n",
       "      <td>study interventions are Razoxane</td>\n",
       "      <td>unspecified adult solid tumor protocol specif...</td>\n",
       "      <td>0</td>\n",
       "    </tr>\n",
       "    <tr>\n",
       "      <th>15</th>\n",
       "      <td>study interventions are Fludarabine</td>\n",
       "      <td>natural_killer cell lymphoblastic leukemia ly...</td>\n",
       "      <td>0</td>\n",
       "    </tr>\n",
       "    <tr>\n",
       "      <th>16</th>\n",
       "      <td>study interventions are Fludarabine phosphate</td>\n",
       "      <td>stage iv adult immunoblastic large cell lymph...</td>\n",
       "      <td>0</td>\n",
       "    </tr>\n",
       "    <tr>\n",
       "      <th>17</th>\n",
       "      <td>study interventions are Interferon-gamma</td>\n",
       "      <td>lung cancer diagnosis and endocrine therapy</td>\n",
       "      <td>0</td>\n",
       "    </tr>\n",
       "    <tr>\n",
       "      <th>18</th>\n",
       "      <td>study interventions are Antibodies</td>\n",
       "      <td>intraocular lymphoma diagnosis and may be tre...</td>\n",
       "      <td>0</td>\n",
       "    </tr>\n",
       "    <tr>\n",
       "      <th>19</th>\n",
       "      <td>study interventions are Pharmacological Study</td>\n",
       "      <td>dermatofibrosarcoma_protuberans diagnosis and...</td>\n",
       "      <td>0</td>\n",
       "    </tr>\n",
       "  </tbody>\n",
       "</table>\n",
       "</div>"
      ],
      "text/plain": [
       "                                                study  \\\n",
       "0    study interventions are recombinant CD40-ligand    \n",
       "1      study interventions are Liposomal doxorubicin    \n",
       "2                  study interventions are BI 836909    \n",
       "3            study interventions are Immunoglobulins    \n",
       "4                 study interventions are Paclitaxel    \n",
       "5     study interventions are Antibodies, Monoclonal    \n",
       "6                   study interventions are Hormones    \n",
       "7   study interventions are Bendamustine Hydrochlo...   \n",
       "8                  study interventions are Nivolumab    \n",
       "9                study interventions are Thalidomide    \n",
       "10  study interventions are study of high risk fac...   \n",
       "11                 study interventions are Androgens    \n",
       "12                study interventions are Bortezomib    \n",
       "13                study interventions are Prednisone    \n",
       "14                  study interventions are Razoxane    \n",
       "15               study interventions are Fludarabine    \n",
       "16     study interventions are Fludarabine phosphate    \n",
       "17          study interventions are Interferon-gamma    \n",
       "18                study interventions are Antibodies    \n",
       "19     study interventions are Pharmacological Study    \n",
       "\n",
       "                                            condition  qualification  \n",
       "0    melanoma skin diagnosis and no active cns met...              0  \n",
       "1      colorectal cancer diagnosis and cardiovascular              0  \n",
       "2    multiple myeloma diagnosis and indwelling cen...              0  \n",
       "3    recurrent fallopian tube carcinoma diagnosis ...              0  \n",
       "4    stage ovarian cancer diagnosis and patients m...              0  \n",
       "5    recurrent verrucous carcinoma of the oral cav...              0  \n",
       "6    prostate cancer diagnosis and imaging examina...              0  \n",
       "7    diffuse large cell lymphoma diagnosis and no ...              0  \n",
       "8    recovered from all toxicities associated with...              0  \n",
       "9    kidney cancer diagnosis and no diabetes mellitus              0  \n",
       "10   precancerous condition diagnosis and able to ...              0  \n",
       "11   prostate cancer diagnosis and patient charact...              0  \n",
       "12   multiple myeloma diagnosis and renal insuffic...              0  \n",
       "13   testicular lymphoma diagnosis and bulky disea...              0  \n",
       "14   unspecified adult solid tumor protocol specif...              0  \n",
       "15   natural_killer cell lymphoblastic leukemia ly...              0  \n",
       "16   stage iv adult immunoblastic large cell lymph...              0  \n",
       "17        lung cancer diagnosis and endocrine therapy              0  \n",
       "18   intraocular lymphoma diagnosis and may be tre...              0  \n",
       "19   dermatofibrosarcoma_protuberans diagnosis and...              0  "
      ]
     },
     "execution_count": 2,
     "metadata": {},
     "output_type": "execute_result"
    }
   ],
   "source": [
    "df=pd.read_csv(\"cancer_clinical_trials.csv\")\n",
    "df.head(20)"
   ]
  },
  {
   "cell_type": "code",
   "execution_count": 3,
   "id": "cad2c1ea",
   "metadata": {},
   "outputs": [
    {
     "name": "stdout",
     "output_type": "stream",
     "text": [
      "<class 'pandas.core.frame.DataFrame'>\n",
      "RangeIndex: 1000000 entries, 0 to 999999\n",
      "Data columns (total 3 columns):\n",
      " #   Column         Non-Null Count    Dtype \n",
      "---  ------         --------------    ----- \n",
      " 0   study          1000000 non-null  object\n",
      " 1   condition      1000000 non-null  object\n",
      " 2   qualification  1000000 non-null  int64 \n",
      "dtypes: int64(1), object(2)\n",
      "memory usage: 22.9+ MB\n"
     ]
    }
   ],
   "source": [
    "df.info()"
   ]
  },
  {
   "cell_type": "code",
   "execution_count": 4,
   "id": "35209633",
   "metadata": {},
   "outputs": [
    {
     "data": {
      "text/plain": [
       "study            0\n",
       "condition        0\n",
       "qualification    0\n",
       "dtype: int64"
      ]
     },
     "execution_count": 4,
     "metadata": {},
     "output_type": "execute_result"
    }
   ],
   "source": [
    "df.isnull().sum()"
   ]
  },
  {
   "cell_type": "code",
   "execution_count": 5,
   "id": "7e52bcec",
   "metadata": {},
   "outputs": [
    {
     "data": {
      "text/plain": [
       "0    500000\n",
       "1    500000\n",
       "Name: qualification, dtype: int64"
      ]
     },
     "execution_count": 5,
     "metadata": {},
     "output_type": "execute_result"
    }
   ],
   "source": [
    "df.qualification.value_counts()"
   ]
  },
  {
   "cell_type": "code",
   "execution_count": 6,
   "id": "d24ff797",
   "metadata": {},
   "outputs": [],
   "source": [
    "X=df[['study','condition']]\n",
    "y=df['qualification']"
   ]
  },
  {
   "cell_type": "code",
   "execution_count": 7,
   "id": "58330ff1",
   "metadata": {},
   "outputs": [],
   "source": [
    "from sklearn.feature_extraction.text import CountVectorizer"
   ]
  },
  {
   "cell_type": "code",
   "execution_count": 8,
   "id": "31804210",
   "metadata": {},
   "outputs": [],
   "source": [
    "text=[]\n",
    "for row in range(0,len(X.index)):\n",
    "    text.append(' '.join(str(x) for x in X.iloc[row,0:2]))"
   ]
  },
  {
   "cell_type": "code",
   "execution_count": 9,
   "id": "8372f208",
   "metadata": {},
   "outputs": [
    {
     "data": {
      "text/plain": [
       "'study interventions are BI 836909   multiple myeloma diagnosis and indwelling central venous cateder or willingness to undergo intra venous central line placement'"
      ]
     },
     "execution_count": 9,
     "metadata": {},
     "output_type": "execute_result"
    }
   ],
   "source": [
    "text[2]"
   ]
  },
  {
   "cell_type": "code",
   "execution_count": 11,
   "id": "55048994",
   "metadata": {},
   "outputs": [
    {
     "name": "stderr",
     "output_type": "stream",
     "text": [
      "[nltk_data] Downloading package stopwords to\n",
      "[nltk_data]     C:\\Users\\Vaishali\\AppData\\Roaming\\nltk_data...\n",
      "[nltk_data]   Package stopwords is already up-to-date!\n"
     ]
    },
    {
     "data": {
      "text/plain": [
       "True"
      ]
     },
     "execution_count": 11,
     "metadata": {},
     "output_type": "execute_result"
    }
   ],
   "source": [
    "import nltk\n",
    "import re\n",
    "nltk.download('stopwords')"
   ]
  },
  {
   "cell_type": "code",
   "execution_count": 12,
   "id": "17dbbe3d",
   "metadata": {},
   "outputs": [],
   "source": [
    "corpus=[]\n",
    "from nltk.corpus import stopwords\n",
    "from nltk.stem.porter import PorterStemmer\n",
    "ps = PorterStemmer()"
   ]
  },
  {
   "cell_type": "code",
   "execution_count": null,
   "id": "15582ad0",
   "metadata": {},
   "outputs": [],
   "source": [
    "\n",
    "for i in range(0, len(text)):\n",
    "    review = re.sub('[^a-zA-Z]', ' ', text[i])\n",
    "    review = review.lower()\n",
    "    review = review.split()\n",
    "    \n",
    "    review = [ps.stem(word) for word in review if not word in stopwords.words('english')]\n",
    "    review = ' '.join(review)\n",
    "    corpus.append(review)"
   ]
  },
  {
   "cell_type": "code",
   "execution_count": null,
   "id": "1421fe1a",
   "metadata": {},
   "outputs": [],
   "source": [
    "## Applying Countvectorizer\n",
    "# Creating the Bag of Words model\n",
    "from sklearn.feature_extraction.text import CountVectorizer\n",
    "cv = CountVectorizer(max_features=5000,ngram_range=(1,3))\n",
    "X_cv = cv.fit_transform(corpus).toarray()"
   ]
  },
  {
   "cell_type": "code",
   "execution_count": null,
   "id": "46038ecd",
   "metadata": {},
   "outputs": [],
   "source": [
    "## Divide the dataset into Train and Test\n",
    "from sklearn.model_selection import train_test_split\n",
    "X_train, X_test, y_train, y_test = train_test_split(X_cv, y, test_size=0.33, random_state=0)"
   ]
  },
  {
   "cell_type": "code",
   "execution_count": null,
   "id": "36ea3ffa",
   "metadata": {},
   "outputs": [],
   "source": [
    "from sklearn.naive_bayes import MultinomialNB\n",
    "classifier=MultinomialNB()"
   ]
  },
  {
   "cell_type": "code",
   "execution_count": null,
   "id": "c5efdb48",
   "metadata": {},
   "outputs": [],
   "source": [
    "from sklearn import metrics\n",
    "classifier.fit(X_train, y_train)\n",
    "pred = classifier.predict(X_test)"
   ]
  },
  {
   "cell_type": "code",
   "execution_count": null,
   "id": "b028add4",
   "metadata": {},
   "outputs": [],
   "source": [
    "score = metrics.accuracy_score(y_test, pred)\n",
    "print(\"accuracy:   %0.3f\" % score)\n",
    "cm = metrics.confusion_matrix(y_test, pred)"
   ]
  },
  {
   "cell_type": "code",
   "execution_count": null,
   "id": "3206ab02",
   "metadata": {},
   "outputs": [],
   "source": []
  }
 ],
 "metadata": {
  "kernelspec": {
   "display_name": "Python 3 (ipykernel)",
   "language": "python",
   "name": "python3"
  },
  "language_info": {
   "codemirror_mode": {
    "name": "ipython",
    "version": 3
   },
   "file_extension": ".py",
   "mimetype": "text/x-python",
   "name": "python",
   "nbconvert_exporter": "python",
   "pygments_lexer": "ipython3",
   "version": "3.9.7"
  }
 },
 "nbformat": 4,
 "nbformat_minor": 5
}
